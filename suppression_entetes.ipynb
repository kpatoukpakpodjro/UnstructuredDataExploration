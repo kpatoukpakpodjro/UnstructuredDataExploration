{
 "cells": [
  {
   "cell_type": "code",
   "execution_count": 2,
   "id": "83ae939c-e6e5-405a-a76a-09f296c3c86f",
   "metadata": {},
   "outputs": [
    {
     "name": "stdout",
     "output_type": "stream",
     "text": [
      "notebook net\n",
      "Notebook nettoyé ✅\n"
     ]
    }
   ],
   "source": [
    "import nbformat\n",
    "\n",
    "with open(\"TextEmbedding.ipynb\", \"r\", encoding=\"utf-8\") as f:\n",
    "    notebook = nbformat.read(f, as_version=4)\n",
    "\n",
    "if \"widgets\" in notebook[\"metadata\"]:\n",
    "    del notebook[\"metadata\"][\"widgets\"]\n",
    "    print(\"notebook net\")\n",
    "\n",
    "with open(\"TextEmbedding.ipynb\", \"w\", encoding=\"utf-8\") as f:\n",
    "    nbformat.write(notebook, f)\n",
    "    print(\"Notebook nettoyé ✅\")"
   ]
  }
 ],
 "metadata": {
  "kernelspec": {
   "display_name": "Python 3 (ipykernel)",
   "language": "python",
   "name": "python3"
  },
  "language_info": {
   "codemirror_mode": {
    "name": "ipython",
    "version": 3
   },
   "file_extension": ".py",
   "mimetype": "text/x-python",
   "name": "python",
   "nbconvert_exporter": "python",
   "pygments_lexer": "ipython3",
   "version": "3.12.4"
  }
 },
 "nbformat": 4,
 "nbformat_minor": 5
}
